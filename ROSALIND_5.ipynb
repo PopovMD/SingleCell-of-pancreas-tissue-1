{
  "nbformat": 4,
  "nbformat_minor": 0,
  "metadata": {
    "colab": {
      "provenance": []
    },
    "kernelspec": {
      "name": "python3",
      "display_name": "Python 3"
    },
    "language_info": {
      "name": "python"
    }
  },
  "cells": [
    {
      "cell_type": "markdown",
      "source": [
        "# Solutioins for first five ROSALIND problems."
      ],
      "metadata": {
        "id": "3YgeQXXlDLVd"
      }
    },
    {
      "cell_type": "markdown",
      "source": [
        "# **[TASK 1](https://rosalind.info/problems/dna/)**"
      ],
      "metadata": {
        "id": "0BVdl9ZgC5BA"
      }
    },
    {
      "cell_type": "code",
      "source": [
        "import collections\n",
        "\n",
        "string = 'CGCACGTTGAAATTGTAGTGTCGCCATAGACAACGCGGATTTCCCCGAGCAACTCTTCTTACCGCGTAAGTGGGCTATATGTGGGCGCGTTCGCAGTTCCTCCGCCGTGCTCACCACCCGCGATCGGGCAGGGAGCACTGTCTACGTTTAGAACCTGGAAGACGAGATTGACCATAGTGCTATATATATGAACGCACGCCGGTGACTATCCTCACGCATCAAACTAGCTGAGGATAAAAAAGTATGCCTCTGAGCGATGTGGTAGTCTAAAAAGACTTTGAGGCAAACCGGTTTAGCTCCCCGTCGTCGCGTGATCGCTTTCGCTGGGGGTATGTATCATTCGTGACCTCTGTCTTTTGGACCATTGCACAGCTTATGGATTGACCCTGCGTCCGTCCTATCCTACAAAAAGATCACCAAGTAGCGGTGACGAACTGCCCCCAGTGCTCGGTCAGCGGAGAAAGTCGCGCGCATAAGATACTAACCCACCGTTTTGAATCCGTTGGACGGCCCGTCGTTTGTACGTTTTCAGGATGCACCCCAGCCACATACGTAGTTTGCCCATGGGTAAATTACCAAAGTTGCTCTCAGTATTGGTGACATTCCTCGAAATAGATAATAGGCGCGGTATGGCGAGTAGTCCCCTCTAGTTATTTTTTCAATGGGTATTTGCGGTACGGCTCTTATATCTCACTTATTTACAGGTCACACGGGGATTGAGATGATGGAAAGCCGTAGCCGATATAAGTGTATTTTGCCCACTTACAGCAGAGAGCAGTATGGAATGCCGCACGCCTGCAGCACCG'\n",
        "counter = collections.Counter(string)\n",
        "counter = dict(sorted(counter.items()))\n",
        "print(*counter.values())"
      ],
      "metadata": {
        "colab": {
          "base_uri": "https://localhost:8080/"
        },
        "id": "ce8IeSP6C1MI",
        "outputId": "f6cec788-95a6-4d16-a2b5-bbd43e33febe"
      },
      "execution_count": 14,
      "outputs": [
        {
          "output_type": "stream",
          "name": "stdout",
          "text": [
            "192 204 203 207\n"
          ]
        }
      ]
    },
    {
      "cell_type": "markdown",
      "source": [
        "# [**TASK 2**](https://rosalind.info/problems/rna/)"
      ],
      "metadata": {
        "id": "LQKxcTbeLPz3"
      }
    },
    {
      "cell_type": "code",
      "source": [
        "string = 'CCTCCAGGAATCATGTGACGAGAGCGATCAAGTACATAACTGAACCCTTTAATATACTCAAACGCAAGGGTCGTGTTATCCCCTCCGCGCCACCGTTCATAGTACACTGCCTCGGGAAGAAACCGGGGCACCTTCAAAAACTGCTCCCTGAGGGGGTACACGAGGGTTTTTAGATCCCTGTAGTGACTGAAGTCGTGCGGGGCAATCAACTTATAGTCCGTCTCGTAGGGATAACAAACGCATGTTCTGCGCGGCGTTGTGTTTGATAAGTCATCACTTTGGCAAGTATCCAAGTGTATCCACGTTGCTTCCCGTTGCACCATCAGGAGACTAAGCTCCTCACGCTCGCGGGATGAGACGGCAGTGAAGTCTCCCTCGCAGTATAAAGCGGTAGCAGAGACTAAGGAGGCAGAGCGGCATGCGAAGTCGCCGCCAGTTTCACGGGTGACTAGACAGCTATCCACACAGCGACCGATTGACTTTTTTCCACCTTGACGGGCTAGACCAATGGAAAGAAGAAGTAAGTTACGCGAGAGTAGTAGCCCCTCCACGTAAGTTGCATGGCTGAGAAATATCAAGCATGCACTGGACATTAGCTATGGTAGAGTCTCCTGAGTCACCTATGCAACAGCGTTGCCGCATCGGCATCAACTTAAAGCAAAGAGCCTAGAAAGAAGTCCCTCAGCTGGCATGAATTGCTGTTTTCGGACACGCTTGCTTCGCGGCTGTTTGTCCTGTCAAGTCATTGCAGCTGAGTGTTATCCTTACATTCTATCTGCATTCGAACTAACAGTTCATCGTCTGTTTCGTTCCATCATTCAGGGACTCTGTTTCCCTCCTAATGCCCCGTTGATAGGAAAATGATACTTACACCAATCGATTTAAGCAATGTAAATCTCCCGGGATATTGAGGGGTAGATTAAGGGACTGTGCTG'\n",
        "print(string.replace('T', 'U'))"
      ],
      "metadata": {
        "colab": {
          "base_uri": "https://localhost:8080/"
        },
        "id": "kqe2tfonLYSU",
        "outputId": "7de23f63-8248-4d7b-de0d-fceaf4e2fcee"
      },
      "execution_count": 18,
      "outputs": [
        {
          "output_type": "stream",
          "name": "stdout",
          "text": [
            "CCUCCAGGAAUCAUGUGACGAGAGCGAUCAAGUACAUAACUGAACCCUUUAAUAUACUCAAACGCAAGGGUCGUGUUAUCCCCUCCGCGCCACCGUUCAUAGUACACUGCCUCGGGAAGAAACCGGGGCACCUUCAAAAACUGCUCCCUGAGGGGGUACACGAGGGUUUUUAGAUCCCUGUAGUGACUGAAGUCGUGCGGGGCAAUCAACUUAUAGUCCGUCUCGUAGGGAUAACAAACGCAUGUUCUGCGCGGCGUUGUGUUUGAUAAGUCAUCACUUUGGCAAGUAUCCAAGUGUAUCCACGUUGCUUCCCGUUGCACCAUCAGGAGACUAAGCUCCUCACGCUCGCGGGAUGAGACGGCAGUGAAGUCUCCCUCGCAGUAUAAAGCGGUAGCAGAGACUAAGGAGGCAGAGCGGCAUGCGAAGUCGCCGCCAGUUUCACGGGUGACUAGACAGCUAUCCACACAGCGACCGAUUGACUUUUUUCCACCUUGACGGGCUAGACCAAUGGAAAGAAGAAGUAAGUUACGCGAGAGUAGUAGCCCCUCCACGUAAGUUGCAUGGCUGAGAAAUAUCAAGCAUGCACUGGACAUUAGCUAUGGUAGAGUCUCCUGAGUCACCUAUGCAACAGCGUUGCCGCAUCGGCAUCAACUUAAAGCAAAGAGCCUAGAAAGAAGUCCCUCAGCUGGCAUGAAUUGCUGUUUUCGGACACGCUUGCUUCGCGGCUGUUUGUCCUGUCAAGUCAUUGCAGCUGAGUGUUAUCCUUACAUUCUAUCUGCAUUCGAACUAACAGUUCAUCGUCUGUUUCGUUCCAUCAUUCAGGGACUCUGUUUCCCUCCUAAUGCCCCGUUGAUAGGAAAAUGAUACUUACACCAAUCGAUUUAAGCAAUGUAAAUCUCCCGGGAUAUUGAGGGGUAGAUUAAGGGACUGUGCUG\n"
          ]
        }
      ]
    },
    {
      "cell_type": "markdown",
      "source": [
        "# [**TASK 3**](https://rosalind.info/problems/revc/)"
      ],
      "metadata": {
        "id": "mcA9L0eQOOsC"
      }
    },
    {
      "cell_type": "code",
      "source": [
        "complement = {'A': 'T', 'C': 'G', 'G': 'C', 'T': 'A'}\n",
        "\n",
        "string = list(input())\n",
        "for i in range(len(string)):\n",
        "  string[i] = complement[string[i]]\n",
        "\n",
        "print(''.join(string[::-1]))"
      ],
      "metadata": {
        "colab": {
          "base_uri": "https://localhost:8080/"
        },
        "id": "I0MtONAcMw1z",
        "outputId": "2fb8107f-638f-48c7-98d7-08c766ba13ab"
      },
      "execution_count": 23,
      "outputs": [
        {
          "output_type": "stream",
          "name": "stdout",
          "text": [
            "AAAACCCGGT\n",
            "ACCGGGTTTT\n"
          ]
        }
      ]
    },
    {
      "cell_type": "markdown",
      "source": [
        "# **[TASK 4](https://rosalind.info/problems/revc/)**"
      ],
      "metadata": {
        "id": "12fanfDiPwXg"
      }
    },
    {
      "cell_type": "code",
      "source": [
        "n = int(input())\n",
        "k = int(input())\n",
        "\n",
        "adults = 0\n",
        "kids = 1\n",
        "N = 1\n",
        "newadults = 0\n",
        "while (N < n):\n",
        "    newadults = adults + kids\n",
        "    kids = adults * k\n",
        "    adults = newadults\n",
        "    N += 1\n",
        "\n",
        "print (adults + kids)"
      ],
      "metadata": {
        "colab": {
          "base_uri": "https://localhost:8080/"
        },
        "id": "LBZk3ClhZ9m2",
        "outputId": "ffad2d4a-308c-4dfd-babe-67a58df7ae59"
      },
      "execution_count": 8,
      "outputs": [
        {
          "output_type": "stream",
          "name": "stdout",
          "text": [
            "45\n",
            "9\n",
            "848535710665356711098650\n"
          ]
        }
      ]
    },
    {
      "cell_type": "markdown",
      "source": [
        "# **[TASK 5](https://rosalind.info/problems/gc/)**"
      ],
      "metadata": {
        "id": "Fcj6pRTgbBOe"
      }
    },
    {
      "cell_type": "code",
      "source": [
        "def calculate_gc_content(dna_string):\n",
        "    gc_count = dna_string.count('G') + dna_string.count('C')\n",
        "    total_length = len(dna_string)\n",
        "    return (gc_count / total_length) * 100 if total_length > 0 else 0\n",
        "\n",
        "def find_max_gc_content(fasta_data):\n",
        "    max_gc_id = \"\"\n",
        "    max_gc_content = 0.0\n",
        "\n",
        "    records = {}\n",
        "    current_id = \"\"\n",
        "    current_seq = \"\"\n",
        "\n",
        "    lines = fasta_data.strip().split('\\n')\n",
        "    for line in lines:\n",
        "        if line.startswith('>'):\n",
        "            if current_id:\n",
        "                records[current_id] = current_seq\n",
        "            current_id = line[1:].strip()\n",
        "            current_seq = \"\"\n",
        "        else:\n",
        "            current_seq += line.strip()\n",
        "\n",
        "    if current_id:\n",
        "        records[current_id] = current_seq\n",
        "\n",
        "    for seq_id, sequence in records.items():\n",
        "        gc_content = calculate_gc_content(sequence)\n",
        "        if gc_content > max_gc_content:\n",
        "            max_gc_content = gc_content\n",
        "            max_gc_id = seq_id\n",
        "\n",
        "    return max_gc_id, max_gc_content"
      ],
      "metadata": {
        "id": "chIBOvmObL4q"
      },
      "execution_count": null,
      "outputs": []
    }
  ]
}